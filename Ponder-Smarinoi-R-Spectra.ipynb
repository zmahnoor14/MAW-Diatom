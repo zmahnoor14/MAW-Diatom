{
 "cells": [
  {
   "cell_type": "code",
   "execution_count": null,
   "id": "6670276e",
   "metadata": {},
   "outputs": [],
   "source": [
    "library(parallel)\n",
    "library(doParallel)\n",
    "library(future)\n",
    "library(iterators)\n",
    "library(listenv)\n",
    "\n",
    "options(future.globals.maxSize = 8 * 1024^3) # increase dataset size limit taken by future to 8GB\n",
    "\n",
    "# detects number of cores\n",
    "n.cores <- parallel::detectCores()\n",
    "\n",
    "\n",
    "plan(list(\n",
    "  tweak(multisession, workers = ((n.cores + 5) %/% 3) %/% 2),\n",
    "  tweak(multisession, workers = ((n.cores + 5) %/% 3) %/% 2),\n",
    "  tweak(multisession, workers = 3)\n",
    "))"
   ]
  },
  {
   "cell_type": "code",
   "execution_count": null,
   "id": "30b87ef3",
   "metadata": {},
   "outputs": [],
   "source": [
    "start.time <- Sys.time()"
   ]
  },
  {
   "cell_type": "code",
   "execution_count": null,
   "id": "af7c81a6",
   "metadata": {},
   "outputs": [],
   "source": [
    "# ---------- Script ----------\n",
    "# input directory\n",
    "input_dir <- getwd()\n",
    "#input_dir <- \"/Users/mahnoorzulfiqar/OneDriveUNI/MAW-data/MTBLS709_Data_32\"\n",
    "#input_dir"
   ]
  },
  {
   "cell_type": "code",
   "execution_count": null,
   "id": "0ccf3dd9",
   "metadata": {},
   "outputs": [],
   "source": [
    "# load the functions file\n",
    "source(paste(getwd(),\"/Workflow_R_Functions.r\", sep = \"\"))\n",
    "#source(\"/Users/mahnoorzulfiqar/OneDriveUNI/MAW/R/Workflow_R_Functions.r\")"
   ]
  },
  {
   "cell_type": "code",
   "execution_count": null,
   "id": "ccc2ce31",
   "metadata": {},
   "outputs": [],
   "source": [
    "input_table <- data.frame(ms2_rfilename(input_dir))\n",
    "input_table"
   ]
  },
  {
   "cell_type": "code",
   "execution_count": null,
   "id": "aadde0f8",
   "metadata": {},
   "outputs": [],
   "source": [
    "input_table_idxs <- listenv()"
   ]
  },
  {
   "cell_type": "code",
   "execution_count": null,
   "id": "bb31099c",
   "metadata": {},
   "outputs": [],
   "source": [
    "for (i in 1:nrow(input_table)){\n",
    "    #Preprocess and Read the mzMLfiles\n",
    "    spec_pr <- spec_Processing(input_dir,\n",
    "                               input_table[i, \"mzml_files\"], \n",
    "                               input_table[i, \"ResultFileNames\"])\n",
    "    \n",
    "    #perform dereplication with all dbs\n",
    "    df_derep <- spec_dereplication_file(mzml_file = input_table[i, \"mzml_files\"],\n",
    "                                        pre_tbl = paste(input_dir, str_remove(paste(input_table[i, \"ResultFileNames\"], \"/premz_list.txt\", sep = \"\"), \".\"), sep =\"\"),\n",
    "                                        proc_mzml = paste(input_dir, str_remove(paste(input_table[i, \"ResultFileNames\"], \"/processedSpectra.mzML\", sep = \"\"), \".\"), sep =\"\"),\n",
    "                                        db = \"all\",\n",
    "                                        result_dir = input_table[i, \"ResultFileNames\"],\n",
    "                                        file_id = input_table[i, \"File_id\"],\n",
    "                                        input_dir,\n",
    "                                        no_of_candidates = 50,\n",
    "                                        ppmx = 15)\n",
    "    \n",
    "}"
   ]
  },
  {
   "cell_type": "code",
   "execution_count": null,
   "id": "efdc1e74",
   "metadata": {},
   "outputs": [],
   "source": [
    "input_table_idxs <- as.list(input_table_idxs)\n",
    "v_input_table_idxs <- future::value(input_table_idxs)"
   ]
  },
  {
   "cell_type": "code",
   "execution_count": null,
   "id": "5f7b960e",
   "metadata": {},
   "outputs": [],
   "source": [
    "end.time <- Sys.time()"
   ]
  }
 ],
 "metadata": {
  "kernelspec": {
   "display_name": "R",
   "language": "R",
   "name": "ir"
  },
  "language_info": {
   "codemirror_mode": "r",
   "file_extension": ".r",
   "mimetype": "text/x-r-source",
   "name": "R",
   "pygments_lexer": "r",
   "version": "4.2.0"
  }
 },
 "nbformat": 4,
 "nbformat_minor": 5
}
